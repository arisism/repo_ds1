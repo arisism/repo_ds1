{
  "nbformat": 4,
  "nbformat_minor": 0,
  "metadata": {
    "colab": {
      "private_outputs": true,
      "provenance": [],
      "toc_visible": true,
      "include_colab_link": true
    },
    "kernelspec": {
      "name": "python3",
      "display_name": "Python 3"
    },
    "language_info": {
      "name": "python"
    }
  },
  "cells": [
    {
      "cell_type": "markdown",
      "metadata": {
        "id": "view-in-github",
        "colab_type": "text"
      },
      "source": [
        "<a href=\"https://colab.research.google.com/github/arisism/repo_ds1/blob/main/Another_copy_of_Module_3_Take_home_Assignment_Template.ipynb\" target=\"_parent\"><img src=\"https://colab.research.google.com/assets/colab-badge.svg\" alt=\"Open In Colab\"/></a>"
      ]
    },
    {
      "cell_type": "markdown",
      "source": [
        "# Import Packages"
      ],
      "metadata": {
        "id": "XfYwSIvKvWQ8"
      }
    },
    {
      "cell_type": "code",
      "source": [
        "import pandas as pd\n",
        "import numpy as np\n",
        "import gdown"
      ],
      "metadata": {
        "id": "I8n35qB_rxMb"
      },
      "execution_count": null,
      "outputs": []
    },
    {
      "cell_type": "markdown",
      "source": [
        "# Download Data"
      ],
      "metadata": {
        "id": "lnlnpGTUvUsQ"
      }
    },
    {
      "cell_type": "code",
      "execution_count": null,
      "metadata": {
        "id": "2J8FJ-M0s7c6"
      },
      "outputs": [],
      "source": [
        "gdrive_url = \"https://drive.google.com/file/d/11qRBEIXAihLU6eFB7ImZlsKDBBAUuY0J/view?usp=drive_link\"\n",
        "file_name = 'TELECOM_ACCOUNT.csv'\n",
        "df_account = file_name\n",
        "df_account"
      ]
    },
    {
      "cell_type": "code",
      "source": [
        "gdrive_url = \"https://drive.google.com/file/d/1vRLE4BKeoZMGwcDljKfK50vlZlsS32iP/view?usp=drive_link\"\n",
        "file_name1 = 'TELECOM_USAGE.csv'\n",
        "df_usage = file_name1\n",
        "df_usage"
      ],
      "metadata": {
        "id": "IMoIgZPutIio"
      },
      "execution_count": null,
      "outputs": []
    },
    {
      "cell_type": "markdown",
      "source": [
        "# Load Data"
      ],
      "metadata": {
        "id": "L9s_-pAKvYb6"
      }
    },
    {
      "cell_type": "code",
      "source": [
        "import pandas as pd"
      ],
      "metadata": {
        "id": "5MDETAefnAzu"
      },
      "execution_count": null,
      "outputs": []
    },
    {
      "cell_type": "code",
      "source": [
        "df_account = pd.read_csv('/content/TELECOM_ACCOUNT.csv')\n",
        "df_account"
      ],
      "metadata": {
        "id": "P3lcWWvXtm_1"
      },
      "execution_count": null,
      "outputs": []
    },
    {
      "cell_type": "code",
      "source": [
        "df_usage = pd.read_csv('/content/TELECOM_USAGE.csv')\n",
        "df_usage"
      ],
      "metadata": {
        "id": "9DO-s4gLtoSL"
      },
      "execution_count": null,
      "outputs": []
    },
    {
      "cell_type": "code",
      "source": [],
      "metadata": {
        "id": "iuKomhfHxWJQ"
      },
      "execution_count": null,
      "outputs": []
    },
    {
      "cell_type": "markdown",
      "source": [
        "# Cleaning Customer Gender"
      ],
      "metadata": {
        "id": "Vz10RzvQvaT8"
      }
    },
    {
      "cell_type": "code",
      "source": [
        "df_account['customer_gender']"
      ],
      "metadata": {
        "id": "J1FajSuuGCQz"
      },
      "execution_count": null,
      "outputs": []
    },
    {
      "cell_type": "code",
      "source": [
        "list [df_account['customer_gender']]"
      ],
      "metadata": {
        "id": "EHtulAnHG3Pw"
      },
      "execution_count": null,
      "outputs": []
    },
    {
      "cell_type": "code",
      "source": [
        "list[set[df_account['customer_gender']]]"
      ],
      "metadata": {
        "id": "VYl8Dx96HFr7"
      },
      "execution_count": null,
      "outputs": []
    },
    {
      "cell_type": "code",
      "source": [
        "list(set(df_account['customer_gender']))"
      ],
      "metadata": {
        "id": "HAYUbsdF8Y7e"
      },
      "execution_count": null,
      "outputs": []
    },
    {
      "cell_type": "code",
      "source": [
        "df_account.loc[df_account['customer_gender'].isnull(),'customer_gender']='u'\n",
        "list(set(df_account['customer_gender']))"
      ],
      "metadata": {
        "id": "aErhLBuQBL6D"
      },
      "execution_count": null,
      "outputs": []
    },
    {
      "cell_type": "code",
      "source": [
        "df_account.loc[df_account['customer_gender']=='U','customer_gender']='u'"
      ],
      "metadata": {
        "id": "qLwt4ThrAZ2b"
      },
      "execution_count": null,
      "outputs": []
    },
    {
      "cell_type": "code",
      "source": [
        "list(set(df_account['customer_gender']))"
      ],
      "metadata": {
        "id": "fs5JVe14tt9F"
      },
      "execution_count": null,
      "outputs": []
    },
    {
      "cell_type": "code",
      "source": [
        "df_account['customer_gender'].value_counts(dropna=False)"
      ],
      "metadata": {
        "id": "-p_7MCuhtpi5"
      },
      "execution_count": null,
      "outputs": []
    },
    {
      "cell_type": "code",
      "source": [
        "a = 200\n",
        "b = 33\n",
        "if a == b:\n",
        "  print(\"a and b are equal\")\n",
        "else:\n",
        "  print(\"a is greater than b\")"
      ],
      "metadata": {
        "id": "GMthdfYlbUwG"
      },
      "execution_count": null,
      "outputs": []
    },
    {
      "cell_type": "code",
      "source": [
        "list(df_account)\n"
      ],
      "metadata": {
        "id": "7Xb_TeYXYm0A"
      },
      "execution_count": null,
      "outputs": []
    },
    {
      "cell_type": "code",
      "source": [
        "list(df_usage)"
      ],
      "metadata": {
        "id": "XseJO5P_vkL_"
      },
      "execution_count": null,
      "outputs": []
    },
    {
      "cell_type": "code",
      "source": [
        "df_rfm = pd.DataFrame(df_usage).groupby('rfm_score').agg({'mb_data_usg_m01': ['mean', 'max'],'avg_arpu_3m':['mean'],'lifetime_value':['mean']})"
      ],
      "metadata": {
        "id": "fx8t3HORwY8E"
      },
      "execution_count": null,
      "outputs": []
    },
    {
      "cell_type": "code",
      "source": [
        "df_rfm"
      ],
      "metadata": {
        "id": "9cAFF4ObzweI"
      },
      "execution_count": null,
      "outputs": []
    },
    {
      "cell_type": "code",
      "source": [
        "df_rfm.columns = ['mb_data_usg_m01_mean', 'mb_data_usg_m01_max','avg_arpu_3m_mean','lifetime_value_mean']\n",
        "df_rfm.columns"
      ],
      "metadata": {
        "id": "qgpm2yeI0CAG"
      },
      "execution_count": null,
      "outputs": []
    },
    {
      "cell_type": "code",
      "source": [
        "df_rfm"
      ],
      "metadata": {
        "id": "bO5NLM_g0QGB"
      },
      "execution_count": null,
      "outputs": []
    },
    {
      "cell_type": "code",
      "source": [
        "df_rfm.loc[[111,112,113,121,122,123]]"
      ],
      "metadata": {
        "id": "Z0DvEdAG1hRE"
      },
      "execution_count": null,
      "outputs": []
    },
    {
      "cell_type": "code",
      "source": [
        "df_rfm.columns=['mb_data_usg_m01_mean', 'mb_data_usg_m01_max','test','lifetime_value_mean']\n",
        "df_rfm.columns"
      ],
      "metadata": {
        "id": "QoL1uSdw6UX4"
      },
      "execution_count": null,
      "outputs": []
    },
    {
      "cell_type": "code",
      "source": [
        "df_rfm.columns=['mb_data_usg_m01_mean', 'mb_data_usg_m01_max','avg_arpu_3m_mean','lifetime_value_mean']\n",
        "df_rfm.columns"
      ],
      "metadata": {
        "id": "2JRwN8j48UDp"
      },
      "execution_count": null,
      "outputs": []
    },
    {
      "cell_type": "markdown",
      "source": [
        "# RFM Exploration"
      ],
      "metadata": {
        "id": "J86IhLHExAsL"
      }
    },
    {
      "cell_type": "code",
      "source": [
        "df_rfm = pd.DataFrame(df_usage).groupby('rfm_score').agg({'mb_data_usg_m01': ['mean', 'max'],'avg_arpu_3m':['mean'],'lifetime_value':['mean']})"
      ],
      "metadata": {
        "id": "DN4STEk1wkib"
      },
      "execution_count": null,
      "outputs": []
    },
    {
      "cell_type": "code",
      "source": [
        "df_rfm"
      ],
      "metadata": {
        "id": "67gp16Gh-Dek"
      },
      "execution_count": null,
      "outputs": []
    },
    {
      "cell_type": "code",
      "source": [],
      "metadata": {
        "id": "xZtF_7VSyGt1"
      },
      "execution_count": null,
      "outputs": []
    },
    {
      "cell_type": "markdown",
      "source": [
        "# Merge Table"
      ],
      "metadata": {
        "id": "-qOT8hARyglf"
      }
    },
    {
      "cell_type": "code",
      "source": [
        "df_account_subset=df_account[['Customer_ID', 'customer_gender', 'region']]\n",
        "df_usage_subset = df_usage[['Customer_ID', 'mb_data_usg_m01', 'avg_arpu_3m', 'lifetime_value']]\n",
        "df_join = pd.merge(df_account_subset, df_usage_subset, on='Customer_ID', how='inner')\n",
        "df_join"
      ],
      "metadata": {
        "id": "ViV4THte0Jqc"
      },
      "execution_count": null,
      "outputs": []
    },
    {
      "cell_type": "code",
      "source": [
        "df_rfm.loc[[111,112,113,121,122,123]]"
      ],
      "metadata": {
        "id": "2oIUN9YL-OMB"
      },
      "execution_count": null,
      "outputs": []
    },
    {
      "cell_type": "code",
      "source": [
        "df_join.loc[df_join['Customer_ID'].isin([84690,3998832,3999066])]"
      ],
      "metadata": {
        "id": "UgQCGlJY0O6N"
      },
      "execution_count": null,
      "outputs": []
    },
    {
      "cell_type": "code",
      "source": [],
      "metadata": {
        "id": "-aPEyZUZ1Gvb"
      },
      "execution_count": null,
      "outputs": []
    }
  ]
}